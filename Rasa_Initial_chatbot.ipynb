{
  "cells": [
    {
      "cell_type": "markdown",
      "metadata": {
        "id": "w_DrnkwFlT-G"
      },
      "source": [
        "**Rasa is Opensource Machine Learning framework used for developing AI based chatbot.**\n"
      ]
    },
    {
      "cell_type": "code",
      "source": [
        "!sudo update-alternatives --config python3"
      ],
      "metadata": {
        "id": "D8Ye8MvB3nQb",
        "outputId": "128d3b58-6d7b-4b3b-db10-3cff199fa6cb",
        "colab": {
          "base_uri": "https://localhost:8080/"
        }
      },
      "execution_count": 1,
      "outputs": [
        {
          "output_type": "stream",
          "name": "stdout",
          "text": [
            "There are 2 choices for the alternative python3 (providing /usr/bin/python3).\n",
            "\n",
            "  Selection    Path                Priority   Status\n",
            "------------------------------------------------------------\n",
            "* 0            /usr/bin/python3.8   2         auto mode\n",
            "  1            /usr/bin/python3.6   1         manual mode\n",
            "  2            /usr/bin/python3.8   2         manual mode\n",
            "\n",
            "Press <enter> to keep the current choice[*], or type selection number: 0\n"
          ]
        }
      ]
    },
    {
      "cell_type": "code",
      "source": [],
      "metadata": {
        "id": "KdDCmNsN3yw4",
        "outputId": "f1ff64a6-582c-4dd0-e105-eb26f24bb0e6",
        "colab": {
          "base_uri": "https://localhost:8080/"
        }
      },
      "execution_count": 1,
      "outputs": [
        {
          "output_type": "stream",
          "name": "stdout",
          "text": [
            "Looking in indexes: https://pypi.org/simple, https://us-python.pkg.dev/colab-wheels/public/simple/\n",
            "Requirement already satisfied: ipython===7.9.0 in /usr/local/lib/python3.8/dist-packages (7.9.0)\n",
            "Requirement already satisfied: traitlets>=4.2 in /usr/local/lib/python3.8/dist-packages (from ipython===7.9.0) (5.1.1)\n",
            "Requirement already satisfied: backcall in /usr/local/lib/python3.8/dist-packages (from ipython===7.9.0) (0.2.0)\n",
            "Requirement already satisfied: pexpect in /usr/local/lib/python3.8/dist-packages (from ipython===7.9.0) (4.8.0)\n",
            "Requirement already satisfied: setuptools>=18.5 in /usr/local/lib/python3.8/dist-packages (from ipython===7.9.0) (57.4.0)\n",
            "Requirement already satisfied: prompt-toolkit<2.1.0,>=2.0.0 in /usr/local/lib/python3.8/dist-packages (from ipython===7.9.0) (2.0.1)\n",
            "Requirement already satisfied: pickleshare in /usr/local/lib/python3.8/dist-packages (from ipython===7.9.0) (0.7.5)\n",
            "Requirement already satisfied: pygments in /usr/local/lib/python3.8/dist-packages (from ipython===7.9.0) (2.6.1)\n",
            "Requirement already satisfied: decorator in /usr/local/lib/python3.8/dist-packages (from ipython===7.9.0) (4.4.2)\n",
            "Requirement already satisfied: jedi>=0.10 in /usr/local/lib/python3.8/dist-packages (from ipython===7.9.0) (0.18.2)\n",
            "Requirement already satisfied: parso<0.9.0,>=0.8.0 in /usr/local/lib/python3.8/dist-packages (from jedi>=0.10->ipython===7.9.0) (0.8.3)\n",
            "Requirement already satisfied: six>=1.9.0 in /usr/local/lib/python3.8/dist-packages (from prompt-toolkit<2.1.0,>=2.0.0->ipython===7.9.0) (1.15.0)\n",
            "Requirement already satisfied: wcwidth in /usr/local/lib/python3.8/dist-packages (from prompt-toolkit<2.1.0,>=2.0.0->ipython===7.9.0) (0.2.5)\n",
            "Requirement already satisfied: ptyprocess>=0.5 in /usr/local/lib/python3.8/dist-packages (from pexpect->ipython===7.9.0) (0.7.0)\n"
          ]
        }
      ]
    },
    {
      "cell_type": "code",
      "source": [
        "!pip install prompt-toolkit==2.0.1"
      ],
      "metadata": {
        "id": "zpPAN3xh50tO",
        "outputId": "6cc75228-e400-45db-d294-81e1f3bc508c",
        "colab": {
          "base_uri": "https://localhost:8080/"
        }
      },
      "execution_count": 2,
      "outputs": [
        {
          "output_type": "stream",
          "name": "stdout",
          "text": [
            "Looking in indexes: https://pypi.org/simple, https://us-python.pkg.dev/colab-wheels/public/simple/\n",
            "Requirement already satisfied: prompt-toolkit==2.0.1 in /usr/local/lib/python3.8/dist-packages (2.0.1)\n",
            "Requirement already satisfied: six>=1.9.0 in /usr/local/lib/python3.8/dist-packages (from prompt-toolkit==2.0.1) (1.15.0)\n",
            "Requirement already satisfied: wcwidth in /usr/local/lib/python3.8/dist-packages (from prompt-toolkit==2.0.1) (0.2.5)\n"
          ]
        }
      ]
    },
    {
      "cell_type": "code",
      "execution_count": 17,
      "metadata": {
        "colab": {
          "base_uri": "https://localhost:8080/",
          "height": 1000
        },
        "id": "ffcul5QcvbFr",
        "outputId": "bcadd0cb-cdce-4c7a-a368-4137a7f91d29"
      },
      "outputs": [
        {
          "output_type": "stream",
          "name": "stdout",
          "text": [
            "Looking in indexes: https://pypi.org/simple, https://us-python.pkg.dev/colab-wheels/public/simple/\n",
            "Collecting rasa==2.0.1\n",
            "  Downloading rasa-2.0.1-py3-none-any.whl (621 kB)\n",
            "\u001b[K     |████████████████████████████████| 621 kB 4.0 MB/s \n",
            "\u001b[?25hRequirement already satisfied: tensorflow-addons<=0.12,>=0.10 in /usr/local/lib/python3.8/dist-packages (from rasa==2.0.1) (0.12.0)\n",
            "Requirement already satisfied: async_generator<1.11,>=1.10 in /usr/local/lib/python3.8/dist-packages (from rasa==2.0.1) (1.10)\n",
            "Collecting aiohttp<3.7,>=3.6\n",
            "  Downloading aiohttp-3.6.3.tar.gz (1.1 MB)\n",
            "\u001b[K     |████████████████████████████████| 1.1 MB 38.4 MB/s \n",
            "\u001b[?25h  Installing build dependencies ... \u001b[?25l\u001b[?25hdone\n",
            "  Getting requirements to build wheel ... \u001b[?25l\u001b[?25hdone\n",
            "    Preparing wheel metadata ... \u001b[?25l\u001b[?25hdone\n",
            "Collecting sentry-sdk<0.18.0,>=0.17.4\n",
            "  Downloading sentry_sdk-0.17.8-py2.py3-none-any.whl (120 kB)\n",
            "\u001b[K     |████████████████████████████████| 120 kB 48.2 MB/s \n",
            "\u001b[?25hCollecting tensorflow_hub<0.10,>=0.9\n",
            "  Downloading tensorflow_hub-0.9.0-py2.py3-none-any.whl (103 kB)\n",
            "\u001b[K     |████████████████████████████████| 103 kB 49.2 MB/s \n",
            "\u001b[?25hCollecting python-telegram-bot<13.0,>=11.1\n",
            "  Downloading python_telegram_bot-12.8-py2.py3-none-any.whl (375 kB)\n",
            "\u001b[K     |████████████████████████████████| 375 kB 71.0 MB/s \n",
            "\u001b[?25hCollecting jsonpickle<1.5,>=1.3\n",
            "  Using cached jsonpickle-1.4.2-py2.py3-none-any.whl (36 kB)\n",
            "Requirement already satisfied: jsonschema<3.3,>=3.2 in /usr/local/lib/python3.8/dist-packages (from rasa==2.0.1) (3.2.0)\n",
            "Requirement already satisfied: scipy<2.0.0,>=1.4.1 in /usr/local/lib/python3.8/dist-packages (from rasa==2.0.1) (1.7.3)\n",
            "Collecting pytz<2021.0,>=2019.1\n",
            "  Downloading pytz-2020.5-py2.py3-none-any.whl (510 kB)\n",
            "\u001b[K     |████████████████████████████████| 510 kB 63.7 MB/s \n",
            "\u001b[?25hRequirement already satisfied: webexteamssdk<1.7.0,>=1.1.1 in /usr/local/lib/python3.8/dist-packages (from rasa==2.0.1) (1.6.1)\n",
            "Collecting absl-py<0.11,>=0.9\n",
            "  Downloading absl_py-0.10.0-py3-none-any.whl (127 kB)\n",
            "\u001b[K     |████████████████████████████████| 127 kB 46.0 MB/s \n",
            "\u001b[?25hCollecting pykwalify<1.8.0,>=1.7.0\n",
            "  Using cached pykwalify-1.7.0-py2.py3-none-any.whl (40 kB)\n",
            "Requirement already satisfied: rasa-sdk<3.0.0,>=2.0.0 in /usr/local/lib/python3.8/dist-packages (from rasa==2.0.1) (2.8.6)\n",
            "Collecting tqdm<4.51,>=4.31\n",
            "  Downloading tqdm-4.50.2-py2.py3-none-any.whl (70 kB)\n",
            "\u001b[K     |████████████████████████████████| 70 kB 8.1 MB/s \n",
            "\u001b[?25hRequirement already satisfied: numpy<2.0,>=1.16 in /usr/local/lib/python3.8/dist-packages (from rasa==2.0.1) (1.18.5)\n",
            "Requirement already satisfied: setuptools>=41.0.0 in /usr/local/lib/python3.8/dist-packages (from rasa==2.0.1) (57.4.0)\n",
            "Requirement already satisfied: kafka-python<3.0,>=1.4 in /usr/local/lib/python3.8/dist-packages (from rasa==2.0.1) (2.0.2)\n",
            "Collecting sanic-jwt<1.5.0,>=1.3.2\n",
            "  Downloading sanic-jwt-1.4.1.tar.gz (19 kB)\n",
            "Requirement already satisfied: joblib<0.16.0,>=0.15.1 in /usr/local/lib/python3.8/dist-packages (from rasa==2.0.1) (0.15.1)\n",
            "Collecting pika<1.2.0,>=1.1.0\n",
            "  Using cached pika-1.1.0-py2.py3-none-any.whl (148 kB)\n",
            "Requirement already satisfied: sanic<21.0.0,>=19.12.2 in /usr/local/lib/python3.8/dist-packages (from rasa==2.0.1) (20.9.0)\n",
            "Requirement already satisfied: oauth2client==4.1.3 in /usr/local/lib/python3.8/dist-packages (from rasa==2.0.1) (4.1.3)\n",
            "Collecting coloredlogs<15,>=10\n",
            "  Downloading coloredlogs-14.3-py2.py3-none-any.whl (44 kB)\n",
            "\u001b[K     |████████████████████████████████| 44 kB 2.7 MB/s \n",
            "\u001b[?25hRequirement already satisfied: packaging<21.0,>=20.0 in /usr/local/lib/python3.8/dist-packages (from rasa==2.0.1) (20.9)\n",
            "Requirement already satisfied: multidict<5.0,>=4.6 in /usr/local/lib/python3.8/dist-packages (from rasa==2.0.1) (4.7.6)\n",
            "Requirement already satisfied: pymongo[srv,tls]<3.11,>=3.8 in /usr/local/lib/python3.8/dist-packages (from rasa==2.0.1) (3.10.1)\n",
            "Requirement already satisfied: tensorflow-estimator<2.4,>=2.3 in /usr/local/lib/python3.8/dist-packages (from rasa==2.0.1) (2.3.0)\n",
            "Requirement already satisfied: redis<4.0,>=3.4 in /usr/local/lib/python3.8/dist-packages (from rasa==2.0.1) (3.5.3)\n",
            "Requirement already satisfied: pydot<1.5,>=1.4 in /usr/local/lib/python3.8/dist-packages (from rasa==2.0.1) (1.4.2)\n",
            "Requirement already satisfied: sanic-cors<0.11.0,>=0.10.0b1 in /usr/local/lib/python3.8/dist-packages (from rasa==2.0.1) (0.10.0.post3)\n",
            "Collecting PyJWT<1.8,>=1.7\n",
            "  Using cached PyJWT-1.7.1-py2.py3-none-any.whl (18 kB)\n",
            "Requirement already satisfied: boto3<2.0,>=1.12 in /usr/local/lib/python3.8/dist-packages (from rasa==2.0.1) (1.26.23)\n",
            "Requirement already satisfied: colorhash<1.1.0,>=1.0.2 in /usr/local/lib/python3.8/dist-packages (from rasa==2.0.1) (1.0.4)\n",
            "Collecting attrs<20.3,>=19.3\n",
            "  Downloading attrs-20.2.0-py2.py3-none-any.whl (48 kB)\n",
            "\u001b[K     |████████████████████████████████| 48 kB 4.4 MB/s \n",
            "\u001b[?25hRequirement already satisfied: requests<3.0,>=2.23 in /usr/local/lib/python3.8/dist-packages (from rasa==2.0.1) (2.28.1)\n",
            "Requirement already satisfied: python-dateutil<2.9,>=2.8 in /usr/local/lib/python3.8/dist-packages (from rasa==2.0.1) (2.8.2)\n",
            "Requirement already satisfied: tensorflow-probability<0.12,>=0.11 in /usr/local/lib/python3.8/dist-packages (from rasa==2.0.1) (0.11.1)\n",
            "Collecting python-engineio<3.14,>=3.11\n",
            "  Downloading python_engineio-3.13.2-py2.py3-none-any.whl (50 kB)\n",
            "\u001b[K     |████████████████████████████████| 50 kB 5.9 MB/s \n",
            "\u001b[?25hCollecting python-socketio<4.7,>=4.4\n",
            "  Downloading python_socketio-4.6.1-py2.py3-none-any.whl (51 kB)\n",
            "\u001b[K     |████████████████████████████████| 51 kB 615 kB/s \n",
            "\u001b[?25hCollecting rocketchat_API<1.10.0,>=0.6.31\n",
            "  Downloading rocketchat_API-1.9.1-py3-none-any.whl (9.8 kB)\n",
            "Requirement already satisfied: ruamel.yaml<0.17,>=0.16 in /usr/local/lib/python3.8/dist-packages (from rasa==2.0.1) (0.16.13)\n",
            "Collecting apscheduler<3.7,>=3.6\n",
            "  Using cached APScheduler-3.6.3-py2.py3-none-any.whl (58 kB)\n",
            "Requirement already satisfied: psycopg2-binary<2.9.0,>=2.8.2 in /usr/local/lib/python3.8/dist-packages (from rasa==2.0.1) (2.8.6)\n",
            "Requirement already satisfied: prompt-toolkit<3.0,>=2.0 in /usr/local/lib/python3.8/dist-packages (from rasa==2.0.1) (2.0.1)\n",
            "Requirement already satisfied: sklearn-crfsuite<0.4,>=0.3 in /usr/local/lib/python3.8/dist-packages (from rasa==2.0.1) (0.3.6)\n",
            "Requirement already satisfied: fbmessenger<6.1.0,>=6.0.0 in /usr/local/lib/python3.8/dist-packages (from rasa==2.0.1) (6.0.0)\n",
            "Collecting scikit-learn<0.24,>=0.22\n",
            "  Downloading scikit_learn-0.23.2-cp38-cp38-manylinux1_x86_64.whl (6.8 MB)\n",
            "\u001b[K     |████████████████████████████████| 6.8 MB 8.3 MB/s \n",
            "\u001b[?25hCollecting cloudpickle<1.5,>=1.2\n",
            "  Downloading cloudpickle-1.4.1-py3-none-any.whl (26 kB)\n",
            "Requirement already satisfied: colorclass<2.3,>=2.2 in /usr/local/lib/python3.8/dist-packages (from rasa==2.0.1) (2.2.2)\n",
            "Requirement already satisfied: slackclient<3.0.0,>=2.0.0 in /usr/local/lib/python3.8/dist-packages (from rasa==2.0.1) (2.9.4)\n",
            "Collecting twilio<6.46,>=6.26\n",
            "  Downloading twilio-6.45.4.tar.gz (457 kB)\n",
            "\u001b[K     |████████████████████████████████| 457 kB 49.4 MB/s \n",
            "\u001b[?25hRequirement already satisfied: mattermostwrapper<2.3,>=2.2 in /usr/local/lib/python3.8/dist-packages (from rasa==2.0.1) (2.2)\n",
            "Collecting ujson<4.0,>=1.35\n",
            "  Downloading ujson-3.2.0-cp38-cp38-manylinux1_x86_64.whl (181 kB)\n",
            "\u001b[K     |████████████████████████████████| 181 kB 36.7 MB/s \n",
            "\u001b[?25hRequirement already satisfied: tensorflow<2.4,>=2.3 in /usr/local/lib/python3.8/dist-packages (from rasa==2.0.1) (2.3.4)\n",
            "Requirement already satisfied: regex<2020.10,>=2020.6 in /usr/local/lib/python3.8/dist-packages (from rasa==2.0.1) (2020.9.27)\n",
            "Requirement already satisfied: networkx<2.6,>=2.4 in /usr/local/lib/python3.8/dist-packages (from rasa==2.0.1) (2.5.1)\n",
            "Collecting questionary<1.6.0,>=1.5.1\n",
            "  Using cached questionary-1.5.2-py3-none-any.whl (26 kB)\n",
            "Requirement already satisfied: tensorflow-text<2.4,>=2.3 in /usr/local/lib/python3.8/dist-packages (from rasa==2.0.1) (2.3.0)\n",
            "Requirement already satisfied: SQLAlchemy<1.4.0,>=1.3.3 in /usr/local/lib/python3.8/dist-packages (from rasa==2.0.1) (1.3.24)\n",
            "Requirement already satisfied: terminaltables<3.2.0,>=3.1.0 in /usr/local/lib/python3.8/dist-packages (from rasa==2.0.1) (3.1.10)\n",
            "Requirement already satisfied: matplotlib<3.4,>=3.1 in /usr/local/lib/python3.8/dist-packages (from rasa==2.0.1) (3.2.2)\n",
            "Requirement already satisfied: pyasn1-modules>=0.0.5 in /usr/local/lib/python3.8/dist-packages (from oauth2client==4.1.3->rasa==2.0.1) (0.2.8)\n",
            "Requirement already satisfied: six>=1.6.1 in /usr/local/lib/python3.8/dist-packages (from oauth2client==4.1.3->rasa==2.0.1) (1.15.0)\n",
            "Requirement already satisfied: pyasn1>=0.1.7 in /usr/local/lib/python3.8/dist-packages (from oauth2client==4.1.3->rasa==2.0.1) (0.4.8)\n",
            "Requirement already satisfied: httplib2>=0.9.1 in /usr/local/lib/python3.8/dist-packages (from oauth2client==4.1.3->rasa==2.0.1) (0.17.4)\n",
            "Requirement already satisfied: rsa>=3.1.4 in /usr/local/lib/python3.8/dist-packages (from oauth2client==4.1.3->rasa==2.0.1) (4.9)\n",
            "Requirement already satisfied: chardet<4.0,>=2.0 in /usr/local/lib/python3.8/dist-packages (from aiohttp<3.7,>=3.6->rasa==2.0.1) (3.0.4)\n",
            "Collecting yarl<1.6.0,>=1.0\n",
            "  Downloading yarl-1.5.1-cp38-cp38-manylinux1_x86_64.whl (262 kB)\n",
            "\u001b[K     |████████████████████████████████| 262 kB 52.4 MB/s \n",
            "\u001b[?25hRequirement already satisfied: async-timeout<4.0,>=3.0 in /usr/local/lib/python3.8/dist-packages (from aiohttp<3.7,>=3.6->rasa==2.0.1) (3.0.1)\n",
            "Requirement already satisfied: tzlocal>=1.2 in /usr/local/lib/python3.8/dist-packages (from apscheduler<3.7,>=3.6->rasa==2.0.1) (2.1)\n",
            "Requirement already satisfied: s3transfer<0.7.0,>=0.6.0 in /usr/local/lib/python3.8/dist-packages (from boto3<2.0,>=1.12->rasa==2.0.1) (0.6.0)\n",
            "Requirement already satisfied: botocore<1.30.0,>=1.29.23 in /usr/local/lib/python3.8/dist-packages (from boto3<2.0,>=1.12->rasa==2.0.1) (1.29.23)\n",
            "Requirement already satisfied: jmespath<2.0.0,>=0.7.1 in /usr/local/lib/python3.8/dist-packages (from boto3<2.0,>=1.12->rasa==2.0.1) (1.0.1)\n",
            "Requirement already satisfied: urllib3<1.27,>=1.25.4 in /usr/local/lib/python3.8/dist-packages (from botocore<1.30.0,>=1.29.23->boto3<2.0,>=1.12->rasa==2.0.1) (1.26.13)\n",
            "Requirement already satisfied: humanfriendly>=7.1 in /usr/local/lib/python3.8/dist-packages (from coloredlogs<15,>=10->rasa==2.0.1) (10.0)\n",
            "Requirement already satisfied: pyrsistent>=0.14.0 in /usr/local/lib/python3.8/dist-packages (from jsonschema<3.3,>=3.2->rasa==2.0.1) (0.19.2)\n",
            "Requirement already satisfied: cycler>=0.10 in /usr/local/lib/python3.8/dist-packages (from matplotlib<3.4,>=3.1->rasa==2.0.1) (0.11.0)\n",
            "Requirement already satisfied: pyparsing!=2.0.4,!=2.1.2,!=2.1.6,>=2.0.1 in /usr/local/lib/python3.8/dist-packages (from matplotlib<3.4,>=3.1->rasa==2.0.1) (3.0.9)\n",
            "Requirement already satisfied: kiwisolver>=1.0.1 in /usr/local/lib/python3.8/dist-packages (from matplotlib<3.4,>=3.1->rasa==2.0.1) (1.4.4)\n",
            "Requirement already satisfied: decorator<5,>=4.3 in /usr/local/lib/python3.8/dist-packages (from networkx<2.6,>=2.4->rasa==2.0.1) (4.4.2)\n",
            "Requirement already satisfied: wcwidth in /usr/local/lib/python3.8/dist-packages (from prompt-toolkit<3.0,>=2.0->rasa==2.0.1) (0.2.5)\n",
            "Requirement already satisfied: PyYAML>=3.11 in /usr/local/lib/python3.8/dist-packages (from pykwalify<1.8.0,>=1.7.0->rasa==2.0.1) (6.0)\n",
            "Requirement already satisfied: docopt>=0.6.2 in /usr/local/lib/python3.8/dist-packages (from pykwalify<1.8.0,>=1.7.0->rasa==2.0.1) (0.6.2)\n",
            "Requirement already satisfied: dnspython<2.0.0,>=1.16.0 in /usr/local/lib/python3.8/dist-packages (from pymongo[srv,tls]<3.11,>=3.8->rasa==2.0.1) (1.16.0)\n",
            "Requirement already satisfied: tornado>=5.1 in /usr/local/lib/python3.8/dist-packages (from python-telegram-bot<13.0,>=11.1->rasa==2.0.1) (6.0.4)\n",
            "Requirement already satisfied: cryptography in /usr/local/lib/python3.8/dist-packages (from python-telegram-bot<13.0,>=11.1->rasa==2.0.1) (38.0.4)\n",
            "Requirement already satisfied: certifi in /usr/local/lib/python3.8/dist-packages (from python-telegram-bot<13.0,>=11.1->rasa==2.0.1) (2022.9.24)\n",
            "Requirement already satisfied: typing-extensions<4.0.0,>=3.7.4 in /usr/local/lib/python3.8/dist-packages (from rasa-sdk<3.0.0,>=2.0.0->rasa==2.0.1) (3.10.0.2)\n",
            "Requirement already satisfied: uvloop<0.15.0 in /usr/local/lib/python3.8/dist-packages (from rasa-sdk<3.0.0,>=2.0.0->rasa==2.0.1) (0.14.0)\n",
            "Requirement already satisfied: idna<4,>=2.5 in /usr/local/lib/python3.8/dist-packages (from requests<3.0,>=2.23->rasa==2.0.1) (2.10)\n",
            "Requirement already satisfied: charset-normalizer<3,>=2 in /usr/local/lib/python3.8/dist-packages (from requests<3.0,>=2.23->rasa==2.0.1) (2.1.1)\n",
            "Requirement already satisfied: ruamel.yaml.clib>=0.1.2 in /usr/local/lib/python3.8/dist-packages (from ruamel.yaml<0.17,>=0.16->rasa==2.0.1) (0.2.7)\n",
            "Requirement already satisfied: httptools>=0.0.10 in /usr/local/lib/python3.8/dist-packages (from sanic<21.0.0,>=19.12.2->rasa==2.0.1) (0.5.0)\n",
            "Requirement already satisfied: httpx==0.15.4 in /usr/local/lib/python3.8/dist-packages (from sanic<21.0.0,>=19.12.2->rasa==2.0.1) (0.15.4)\n",
            "Requirement already satisfied: websockets<9.0,>=8.1 in /usr/local/lib/python3.8/dist-packages (from sanic<21.0.0,>=19.12.2->rasa==2.0.1) (8.1)\n",
            "Requirement already satisfied: aiofiles>=0.3.0 in /usr/local/lib/python3.8/dist-packages (from sanic<21.0.0,>=19.12.2->rasa==2.0.1) (22.1.0)\n",
            "Requirement already satisfied: rfc3986[idna2008]<2,>=1.3 in /usr/local/lib/python3.8/dist-packages (from httpx==0.15.4->sanic<21.0.0,>=19.12.2->rasa==2.0.1) (1.5.0)\n",
            "Requirement already satisfied: httpcore==0.11.* in /usr/local/lib/python3.8/dist-packages (from httpx==0.15.4->sanic<21.0.0,>=19.12.2->rasa==2.0.1) (0.11.1)\n",
            "Requirement already satisfied: sniffio in /usr/local/lib/python3.8/dist-packages (from httpx==0.15.4->sanic<21.0.0,>=19.12.2->rasa==2.0.1) (1.3.0)\n",
            "Requirement already satisfied: h11<0.10,>=0.8 in /usr/local/lib/python3.8/dist-packages (from httpcore==0.11.*->httpx==0.15.4->sanic<21.0.0,>=19.12.2->rasa==2.0.1) (0.9.0)\n",
            "Requirement already satisfied: sanic-plugins-framework>=0.9.0 in /usr/local/lib/python3.8/dist-packages (from sanic-cors<0.11.0,>=0.10.0b1->rasa==2.0.1) (0.9.5)\n",
            "Requirement already satisfied: threadpoolctl>=2.0.0 in /usr/local/lib/python3.8/dist-packages (from scikit-learn<0.24,>=0.22->rasa==2.0.1) (3.1.0)\n",
            "Requirement already satisfied: tabulate in /usr/local/lib/python3.8/dist-packages (from sklearn-crfsuite<0.4,>=0.3->rasa==2.0.1) (0.8.10)\n",
            "Requirement already satisfied: python-crfsuite>=0.8.3 in /usr/local/lib/python3.8/dist-packages (from sklearn-crfsuite<0.4,>=0.3->rasa==2.0.1) (0.9.8)\n",
            "Requirement already satisfied: protobuf>=3.9.2 in /usr/local/lib/python3.8/dist-packages (from tensorflow<2.4,>=2.3->rasa==2.0.1) (3.19.6)\n",
            "Requirement already satisfied: grpcio>=1.8.6 in /usr/local/lib/python3.8/dist-packages (from tensorflow<2.4,>=2.3->rasa==2.0.1) (1.50.0)\n",
            "Requirement already satisfied: keras-preprocessing<1.2,>=1.1.1 in /usr/local/lib/python3.8/dist-packages (from tensorflow<2.4,>=2.3->rasa==2.0.1) (1.1.2)\n",
            "Requirement already satisfied: wheel>=0.26 in /usr/local/lib/python3.8/dist-packages (from tensorflow<2.4,>=2.3->rasa==2.0.1) (0.38.4)\n",
            "Requirement already satisfied: opt-einsum>=2.3.2 in /usr/local/lib/python3.8/dist-packages (from tensorflow<2.4,>=2.3->rasa==2.0.1) (3.3.0)\n",
            "Requirement already satisfied: astunparse==1.6.3 in /usr/local/lib/python3.8/dist-packages (from tensorflow<2.4,>=2.3->rasa==2.0.1) (1.6.3)\n",
            "Requirement already satisfied: wrapt>=1.11.1 in /usr/local/lib/python3.8/dist-packages (from tensorflow<2.4,>=2.3->rasa==2.0.1) (1.14.1)\n",
            "Requirement already satisfied: tensorboard<3,>=2.3.0 in /usr/local/lib/python3.8/dist-packages (from tensorflow<2.4,>=2.3->rasa==2.0.1) (2.9.1)\n",
            "Requirement already satisfied: h5py<2.11.0,>=2.10.0 in /usr/local/lib/python3.8/dist-packages (from tensorflow<2.4,>=2.3->rasa==2.0.1) (2.10.0)\n",
            "Requirement already satisfied: termcolor>=1.1.0 in /usr/local/lib/python3.8/dist-packages (from tensorflow<2.4,>=2.3->rasa==2.0.1) (2.1.1)\n",
            "Requirement already satisfied: google-pasta>=0.1.8 in /usr/local/lib/python3.8/dist-packages (from tensorflow<2.4,>=2.3->rasa==2.0.1) (0.2.0)\n",
            "Requirement already satisfied: gast==0.3.3 in /usr/local/lib/python3.8/dist-packages (from tensorflow<2.4,>=2.3->rasa==2.0.1) (0.3.3)\n",
            "Requirement already satisfied: markdown>=2.6.8 in /usr/local/lib/python3.8/dist-packages (from tensorboard<3,>=2.3.0->tensorflow<2.4,>=2.3->rasa==2.0.1) (3.4.1)\n",
            "Requirement already satisfied: tensorboard-plugin-wit>=1.6.0 in /usr/local/lib/python3.8/dist-packages (from tensorboard<3,>=2.3.0->tensorflow<2.4,>=2.3->rasa==2.0.1) (1.8.1)\n",
            "Requirement already satisfied: tensorboard-data-server<0.7.0,>=0.6.0 in /usr/local/lib/python3.8/dist-packages (from tensorboard<3,>=2.3.0->tensorflow<2.4,>=2.3->rasa==2.0.1) (0.6.1)\n",
            "Requirement already satisfied: google-auth<3,>=1.6.3 in /usr/local/lib/python3.8/dist-packages (from tensorboard<3,>=2.3.0->tensorflow<2.4,>=2.3->rasa==2.0.1) (2.14.1)\n",
            "Requirement already satisfied: werkzeug>=1.0.1 in /usr/local/lib/python3.8/dist-packages (from tensorboard<3,>=2.3.0->tensorflow<2.4,>=2.3->rasa==2.0.1) (1.0.1)\n",
            "Requirement already satisfied: google-auth-oauthlib<0.5,>=0.4.1 in /usr/local/lib/python3.8/dist-packages (from tensorboard<3,>=2.3.0->tensorflow<2.4,>=2.3->rasa==2.0.1) (0.4.6)\n",
            "Requirement already satisfied: cachetools<6.0,>=2.0.0 in /usr/local/lib/python3.8/dist-packages (from google-auth<3,>=1.6.3->tensorboard<3,>=2.3.0->tensorflow<2.4,>=2.3->rasa==2.0.1) (5.2.0)\n",
            "Requirement already satisfied: requests-oauthlib>=0.7.0 in /usr/local/lib/python3.8/dist-packages (from google-auth-oauthlib<0.5,>=0.4.1->tensorboard<3,>=2.3.0->tensorflow<2.4,>=2.3->rasa==2.0.1) (1.3.1)\n",
            "Requirement already satisfied: importlib-metadata>=4.4 in /usr/local/lib/python3.8/dist-packages (from markdown>=2.6.8->tensorboard<3,>=2.3.0->tensorflow<2.4,>=2.3->rasa==2.0.1) (4.13.0)\n",
            "Requirement already satisfied: zipp>=0.5 in /usr/local/lib/python3.8/dist-packages (from importlib-metadata>=4.4->markdown>=2.6.8->tensorboard<3,>=2.3.0->tensorflow<2.4,>=2.3->rasa==2.0.1) (3.10.0)\n",
            "Requirement already satisfied: oauthlib>=3.0.0 in /usr/local/lib/python3.8/dist-packages (from requests-oauthlib>=0.7.0->google-auth-oauthlib<0.5,>=0.4.1->tensorboard<3,>=2.3.0->tensorflow<2.4,>=2.3->rasa==2.0.1) (3.2.2)\n",
            "Requirement already satisfied: typeguard>=2.7 in /usr/local/lib/python3.8/dist-packages (from tensorflow-addons<=0.12,>=0.10->rasa==2.0.1) (2.7.1)\n",
            "Requirement already satisfied: dm-tree in /usr/local/lib/python3.8/dist-packages (from tensorflow-probability<0.12,>=0.11->rasa==2.0.1) (0.1.7)\n",
            "Requirement already satisfied: future in /usr/local/lib/python3.8/dist-packages (from webexteamssdk<1.7.0,>=1.1.1->rasa==2.0.1) (0.16.0)\n",
            "Requirement already satisfied: requests-toolbelt in /usr/local/lib/python3.8/dist-packages (from webexteamssdk<1.7.0,>=1.1.1->rasa==2.0.1) (0.10.1)\n",
            "Requirement already satisfied: cffi>=1.12 in /usr/local/lib/python3.8/dist-packages (from cryptography->python-telegram-bot<13.0,>=11.1->rasa==2.0.1) (1.15.1)\n",
            "Requirement already satisfied: pycparser in /usr/local/lib/python3.8/dist-packages (from cffi>=1.12->cryptography->python-telegram-bot<13.0,>=11.1->rasa==2.0.1) (2.21)\n",
            "Building wheels for collected packages: aiohttp, sanic-jwt, twilio\n",
            "  Building wheel for aiohttp (PEP 517) ... \u001b[?25l\u001b[?25hdone\n",
            "  Created wheel for aiohttp: filename=aiohttp-3.6.3-cp38-cp38-linux_x86_64.whl size=1228869 sha256=64c3700dbca7a11c27736e585ca051cb9a134039aa016740e937d55e9b4deaba\n",
            "  Stored in directory: /root/.cache/pip/wheels/2d/6d/bb/486f8c893f1dcc917860a5b3e2f2ca286c398f7d548ffc649c\n",
            "  Building wheel for sanic-jwt (setup.py) ... \u001b[?25l\u001b[?25hdone\n",
            "  Created wheel for sanic-jwt: filename=sanic_jwt-1.4.1-py3-none-any.whl size=21615 sha256=d9b1bb868068da5b816f8601bed26d89534643216ac3ee3204d13f92e253fcbb\n",
            "  Stored in directory: /root/.cache/pip/wheels/e3/20/a2/d1e894c0ef62547559ba0cca55e27dc5dcf65ad87abea69d32\n",
            "  Building wheel for twilio (setup.py) ... \u001b[?25l\u001b[?25hdone\n",
            "  Created wheel for twilio: filename=twilio-6.45.4-py2.py3-none-any.whl size=1211608 sha256=47f620a88825709cc2e059b5092d7be9274870adbd4e99c56393e186653fedcd\n",
            "  Stored in directory: /root/.cache/pip/wheels/cd/d4/31/74e1cb4f74bd72a0e74d6fbb28f5093b9a2168df275aa59440\n",
            "Successfully built aiohttp sanic-jwt twilio\n",
            "Installing collected packages: ujson, absl-py, yarl, pytz, attrs, tqdm, python-engineio, PyJWT, coloredlogs, cloudpickle, aiohttp, twilio, tensorflow-hub, sentry-sdk, scikit-learn, sanic-jwt, rocketchat-API, questionary, python-telegram-bot, python-socketio, pykwalify, pika, jsonpickle, apscheduler, rasa\n",
            "  Attempting uninstall: ujson\n",
            "    Found existing installation: ujson 4.3.0\n",
            "    Uninstalling ujson-4.3.0:\n",
            "      Successfully uninstalled ujson-4.3.0\n",
            "  Attempting uninstall: absl-py\n",
            "    Found existing installation: absl-py 0.12.0\n",
            "    Uninstalling absl-py-0.12.0:\n",
            "      Successfully uninstalled absl-py-0.12.0\n",
            "  Attempting uninstall: yarl\n",
            "    Found existing installation: yarl 1.8.1\n",
            "    Uninstalling yarl-1.8.1:\n",
            "      Successfully uninstalled yarl-1.8.1\n",
            "  Attempting uninstall: pytz\n",
            "    Found existing installation: pytz 2021.3\n",
            "    Uninstalling pytz-2021.3:\n",
            "      Successfully uninstalled pytz-2021.3\n",
            "  Attempting uninstall: attrs\n",
            "    Found existing installation: attrs 20.3.0\n",
            "    Uninstalling attrs-20.3.0:\n",
            "      Successfully uninstalled attrs-20.3.0\n",
            "  Attempting uninstall: tqdm\n",
            "    Found existing installation: tqdm 4.59.0\n",
            "    Uninstalling tqdm-4.59.0:\n",
            "      Successfully uninstalled tqdm-4.59.0\n",
            "  Attempting uninstall: python-engineio\n",
            "    Found existing installation: python-engineio 4.3.4\n",
            "    Uninstalling python-engineio-4.3.4:\n",
            "      Successfully uninstalled python-engineio-4.3.4\n",
            "  Attempting uninstall: PyJWT\n",
            "    Found existing installation: PyJWT 2.6.0\n",
            "    Uninstalling PyJWT-2.6.0:\n",
            "      Successfully uninstalled PyJWT-2.6.0\n",
            "  Attempting uninstall: coloredlogs\n",
            "    Found existing installation: coloredlogs 15.0.1\n",
            "    Uninstalling coloredlogs-15.0.1:\n",
            "      Successfully uninstalled coloredlogs-15.0.1\n",
            "  Attempting uninstall: cloudpickle\n",
            "    Found existing installation: cloudpickle 1.5.0\n",
            "    Uninstalling cloudpickle-1.5.0:\n",
            "      Successfully uninstalled cloudpickle-1.5.0\n",
            "  Attempting uninstall: aiohttp\n",
            "    Found existing installation: aiohttp 3.7.4\n",
            "    Uninstalling aiohttp-3.7.4:\n",
            "      Successfully uninstalled aiohttp-3.7.4\n",
            "  Attempting uninstall: twilio\n",
            "    Found existing installation: twilio 6.50.1\n",
            "    Uninstalling twilio-6.50.1:\n",
            "      Successfully uninstalled twilio-6.50.1\n",
            "  Attempting uninstall: tensorflow-hub\n",
            "    Found existing installation: tensorflow-hub 0.10.0\n",
            "    Uninstalling tensorflow-hub-0.10.0:\n",
            "      Successfully uninstalled tensorflow-hub-0.10.0\n",
            "  Attempting uninstall: sentry-sdk\n",
            "    Found existing installation: sentry-sdk 0.19.5\n",
            "    Uninstalling sentry-sdk-0.19.5:\n",
            "      Successfully uninstalled sentry-sdk-0.19.5\n",
            "  Attempting uninstall: scikit-learn\n",
            "    Found existing installation: scikit-learn 0.24.2\n",
            "    Uninstalling scikit-learn-0.24.2:\n",
            "      Successfully uninstalled scikit-learn-0.24.2\n",
            "  Attempting uninstall: sanic-jwt\n",
            "    Found existing installation: sanic-jwt 1.8.0\n",
            "    Uninstalling sanic-jwt-1.8.0:\n",
            "      Successfully uninstalled sanic-jwt-1.8.0\n",
            "  Attempting uninstall: rocketchat-API\n",
            "    Found existing installation: rocketchat-API 1.15.0\n",
            "    Uninstalling rocketchat-API-1.15.0:\n",
            "      Successfully uninstalled rocketchat-API-1.15.0\n",
            "  Attempting uninstall: questionary\n",
            "    Found existing installation: questionary 1.9.0\n",
            "    Uninstalling questionary-1.9.0:\n",
            "      Successfully uninstalled questionary-1.9.0\n",
            "  Attempting uninstall: python-socketio\n",
            "    Found existing installation: python-socketio 5.7.2\n",
            "    Uninstalling python-socketio-5.7.2:\n",
            "      Successfully uninstalled python-socketio-5.7.2\n",
            "  Attempting uninstall: pykwalify\n",
            "    Found existing installation: pykwalify 1.8.0\n",
            "    Uninstalling pykwalify-1.8.0:\n",
            "      Successfully uninstalled pykwalify-1.8.0\n",
            "  Attempting uninstall: jsonpickle\n",
            "    Found existing installation: jsonpickle 2.0.0\n",
            "    Uninstalling jsonpickle-2.0.0:\n",
            "      Successfully uninstalled jsonpickle-2.0.0\n",
            "  Attempting uninstall: apscheduler\n",
            "    Found existing installation: APScheduler 3.7.0\n",
            "    Uninstalling APScheduler-3.7.0:\n",
            "      Successfully uninstalled APScheduler-3.7.0\n",
            "  Attempting uninstall: rasa\n",
            "    Found existing installation: rasa 2.6.2\n",
            "    Uninstalling rasa-2.6.2:\n",
            "      Successfully uninstalled rasa-2.6.2\n",
            "\u001b[31mERROR: pip's dependency resolver does not currently take into account all the packages that are installed. This behaviour is the source of the following dependency conflicts.\n",
            "yellowbrick 1.5 requires scikit-learn>=1.0.0, but you have scikit-learn 0.23.2 which is incompatible.\n",
            "nltk 3.7 requires regex>=2021.8.3, but you have regex 2020.9.27 which is incompatible.\n",
            "imbalanced-learn 0.8.1 requires scikit-learn>=0.24, but you have scikit-learn 0.23.2 which is incompatible.\n",
            "httpstan 4.6.1 requires aiohttp<4.0,>=3.7, but you have aiohttp 3.6.3 which is incompatible.\n",
            "distributed 2022.2.0 requires cloudpickle>=1.5.0, but you have cloudpickle 1.4.1 which is incompatible.\n",
            "cmdstanpy 1.0.8 requires numpy>=1.21, but you have numpy 1.18.5 which is incompatible.\u001b[0m\n",
            "Successfully installed PyJWT-1.7.1 absl-py-0.10.0 aiohttp-3.6.3 apscheduler-3.6.3 attrs-20.2.0 cloudpickle-1.4.1 coloredlogs-14.3 jsonpickle-1.4.2 pika-1.1.0 pykwalify-1.7.0 python-engineio-3.13.2 python-socketio-4.6.1 python-telegram-bot-12.8 pytz-2020.5 questionary-1.5.2 rasa-2.0.1 rocketchat-API-1.9.1 sanic-jwt-1.4.1 scikit-learn-0.23.2 sentry-sdk-0.17.8 tensorflow-hub-0.9.0 tqdm-4.50.2 twilio-6.45.4 ujson-3.2.0 yarl-1.5.1\n"
          ]
        },
        {
          "output_type": "display_data",
          "data": {
            "application/vnd.colab-display-data+json": {
              "pip_warning": {
                "packages": [
                  "absl",
                  "aiohttp",
                  "apscheduler",
                  "attr",
                  "cloudpickle",
                  "engineio",
                  "jsonpickle",
                  "jwt",
                  "pykwalify",
                  "pytz",
                  "questionary",
                  "sklearn",
                  "socketio",
                  "tqdm",
                  "twilio",
                  "ujson",
                  "yarl"
                ]
              }
            }
          },
          "metadata": {}
        }
      ],
      "source": [
        "!pip install rasa==2.0.1"
      ]
    },
    {
      "cell_type": "code",
      "source": [
        "!pip install -U ipython===7.9.0"
      ],
      "metadata": {
        "id": "nFhG2EqR-ceB"
      },
      "execution_count": null,
      "outputs": []
    },
    {
      "cell_type": "markdown",
      "metadata": {
        "id": "EKxfJiQYIkv9"
      },
      "source": [
        "**Little Changes in Installtion**\n",
        "1. upgrade table from 3.7.0 to 3.6.1\n",
        "2. upgrade ipython to avoid crashing colab session, while doing restart the runtime.\n",
        "\n",
        "After, installing ipython you saw a \"RESTART RUNTIME\" button in \"ipython\" cell output. \n",
        "\n",
        "Click on it to restart the runtime and you are good to go. \n",
        "\n",
        "No need to update anything run as usual.\n"
      ]
    },
    {
      "cell_type": "code",
      "execution_count": 5,
      "metadata": {
        "colab": {
          "base_uri": "https://localhost:8080/"
        },
        "id": "hoGEpudx0Fcn",
        "outputId": "313cf556-f69b-4fbf-f474-582ada9426da"
      },
      "outputs": [
        {
          "output_type": "stream",
          "name": "stdout",
          "text": [
            "Looking in indexes: https://pypi.org/simple, https://us-python.pkg.dev/colab-wheels/public/simple/\n",
            "Requirement already satisfied: tables==3.6.1 in /usr/local/lib/python3.8/dist-packages (3.6.1)\n",
            "Requirement already satisfied: numpy>=1.9.3 in /usr/local/lib/python3.8/dist-packages (from tables==3.6.1) (1.18.5)\n",
            "Requirement already satisfied: numexpr>=2.6.2 in /usr/local/lib/python3.8/dist-packages (from tables==3.6.1) (2.8.4)\n"
          ]
        }
      ],
      "source": [
        "!pip install -U tables==3.6.1"
      ]
    },
    {
      "cell_type": "code",
      "execution_count": null,
      "metadata": {
        "colab": {
          "base_uri": "https://localhost:8080/",
          "height": 662
        },
        "id": "Vu4CYtxz_-oG",
        "outputId": "4300954c-fe31-468e-8a9e-6652359df6d4"
      },
      "outputs": [
        {
          "name": "stdout",
          "output_type": "stream",
          "text": [
            "Requirement already satisfied: ipython in /usr/local/lib/python3.7/dist-packages (5.5.0)\n",
            "Collecting ipython\n",
            "  Downloading ipython-7.31.1-py3-none-any.whl (792 kB)\n",
            "\u001b[K     |████████████████████████████████| 792 kB 7.7 MB/s \n",
            "\u001b[?25hRequirement already satisfied: pickleshare in /usr/local/lib/python3.7/dist-packages (from ipython) (0.7.5)\n",
            "Requirement already satisfied: setuptools>=18.5 in /usr/local/lib/python3.7/dist-packages (from ipython) (57.4.0)\n",
            "Requirement already satisfied: prompt-toolkit!=3.0.0,!=3.0.1,<3.1.0,>=2.0.0 in /usr/local/lib/python3.7/dist-packages (from ipython) (2.0.10)\n",
            "Requirement already satisfied: decorator in /usr/local/lib/python3.7/dist-packages (from ipython) (4.4.2)\n",
            "Requirement already satisfied: traitlets>=4.2 in /usr/local/lib/python3.7/dist-packages (from ipython) (5.1.1)\n",
            "Requirement already satisfied: jedi>=0.16 in /usr/local/lib/python3.7/dist-packages (from ipython) (0.18.1)\n",
            "Requirement already satisfied: pexpect>4.3 in /usr/local/lib/python3.7/dist-packages (from ipython) (4.8.0)\n",
            "Requirement already satisfied: matplotlib-inline in /usr/local/lib/python3.7/dist-packages (from ipython) (0.1.3)\n",
            "Requirement already satisfied: backcall in /usr/local/lib/python3.7/dist-packages (from ipython) (0.2.0)\n",
            "Requirement already satisfied: pygments in /usr/local/lib/python3.7/dist-packages (from ipython) (2.6.1)\n",
            "Requirement already satisfied: parso<0.9.0,>=0.8.0 in /usr/local/lib/python3.7/dist-packages (from jedi>=0.16->ipython) (0.8.3)\n",
            "Requirement already satisfied: ptyprocess>=0.5 in /usr/local/lib/python3.7/dist-packages (from pexpect>4.3->ipython) (0.7.0)\n",
            "Requirement already satisfied: wcwidth in /usr/local/lib/python3.7/dist-packages (from prompt-toolkit!=3.0.0,!=3.0.1,<3.1.0,>=2.0.0->ipython) (0.2.5)\n",
            "Requirement already satisfied: six>=1.9.0 in /usr/local/lib/python3.7/dist-packages (from prompt-toolkit!=3.0.0,!=3.0.1,<3.1.0,>=2.0.0->ipython) (1.15.0)\n",
            "Installing collected packages: ipython\n",
            "  Attempting uninstall: ipython\n",
            "    Found existing installation: ipython 5.5.0\n",
            "    Uninstalling ipython-5.5.0:\n",
            "      Successfully uninstalled ipython-5.5.0\n",
            "\u001b[31mERROR: pip's dependency resolver does not currently take into account all the packages that are installed. This behaviour is the source of the following dependency conflicts.\n",
            "jupyter-console 5.2.0 requires prompt-toolkit<2.0.0,>=1.0.0, but you have prompt-toolkit 2.0.10 which is incompatible.\n",
            "google-colab 1.0.0 requires ipython~=5.5.0, but you have ipython 7.31.1 which is incompatible.\u001b[0m\n",
            "Successfully installed ipython-7.31.1\n"
          ]
        },
        {
          "data": {
            "application/vnd.colab-display-data+json": {
              "pip_warning": {
                "packages": [
                  "IPython"
                ]
              }
            }
          },
          "metadata": {},
          "output_type": "display_data"
        }
      ],
      "source": [
        "#!pip install -U ipython"
      ]
    },
    {
      "cell_type": "markdown",
      "metadata": {
        "id": "bo-r5gkVH40O"
      },
      "source": [
        "**Click on above \"RESTART RUNTIME\" button**\n",
        "\n",
        "![button.PNG](data:image/png;base64,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)"
      ]
    },
    {
      "cell_type": "code",
      "execution_count": 6,
      "metadata": {
        "colab": {
          "base_uri": "https://localhost:8080/"
        },
        "id": "4U2Szt_9xE6z",
        "outputId": "0c851b14-0f15-4548-afc0-0cedb42aea10"
      },
      "outputs": [
        {
          "output_type": "stream",
          "name": "stdout",
          "text": [
            "Traceback (most recent call last):\n",
            "  File \"/usr/lib/python3.8/runpy.py\", line 185, in _run_module_as_main\n",
            "    mod_name, mod_spec, code = _get_module_details(mod_name, _Error)\n",
            "  File \"/usr/lib/python3.8/runpy.py\", line 144, in _get_module_details\n",
            "    return _get_module_details(pkg_main_name, error)\n",
            "  File \"/usr/lib/python3.8/runpy.py\", line 111, in _get_module_details\n",
            "    __import__(pkg_name)\n",
            "  File \"/usr/local/lib/python3.8/dist-packages/spacy/__init__.py\", line 6, in <module>\n",
            "    from .errors import setup_default_warnings\n",
            "  File \"/usr/local/lib/python3.8/dist-packages/spacy/errors.py\", line 2, in <module>\n",
            "    from .compat import Literal\n",
            "  File \"/usr/local/lib/python3.8/dist-packages/spacy/compat.py\", line 3, in <module>\n",
            "    from thinc.util import copy_array\n",
            "  File \"/usr/local/lib/python3.8/dist-packages/thinc/__init__.py\", line 5, in <module>\n",
            "    from .config import registry\n",
            "  File \"/usr/local/lib/python3.8/dist-packages/thinc/config.py\", line 2, in <module>\n",
            "    import confection\n",
            "  File \"/usr/local/lib/python3.8/dist-packages/confection/__init__.py\", line 10, in <module>\n",
            "    from pydantic import BaseModel, create_model, ValidationError, Extra\n",
            "  File \"pydantic/__init__.py\", line 2, in init pydantic.__init__\n",
            "  File \"pydantic/dataclasses.py\", line 52, in init pydantic.dataclasses\n",
            "    #   |\n",
            "ImportError: cannot import name dataclass_transform\n"
          ]
        }
      ],
      "source": [
        "#!python -m spacy download en"
      ]
    },
    {
      "cell_type": "code",
      "execution_count": 7,
      "metadata": {
        "colab": {
          "base_uri": "https://localhost:8080/"
        },
        "id": "CHVBIeez3cyR",
        "outputId": "05cd079c-5deb-4d04-cd9e-aafef048ecce"
      },
      "outputs": [
        {
          "output_type": "stream",
          "name": "stdout",
          "text": [
            "Looking in indexes: https://pypi.org/simple, https://us-python.pkg.dev/colab-wheels/public/simple/\n",
            "Requirement already satisfied: nest_asyncio==1.3.3 in /usr/local/lib/python3.8/dist-packages (1.3.3)\n"
          ]
        }
      ],
      "source": [
        "!pip install nest_asyncio==1.3.3"
      ]
    },
    {
      "cell_type": "code",
      "execution_count": 3,
      "metadata": {
        "colab": {
          "base_uri": "https://localhost:8080/"
        },
        "id": "pFVs_ym8EUTy",
        "outputId": "e6875701-e5fc-48db-d375-7daa99df2b28"
      },
      "outputs": [
        {
          "output_type": "stream",
          "name": "stdout",
          "text": [
            "Event loop ready.\n"
          ]
        }
      ],
      "source": [
        "import os\n",
        "import rasa\n",
        "import nest_asyncio\n",
        "\n",
        "nest_asyncio.apply()\n",
        "print(\"Event loop ready.\")"
      ]
    },
    {
      "cell_type": "code",
      "execution_count": 4,
      "metadata": {
        "id": "FZsqX3irEv7O"
      },
      "outputs": [],
      "source": [
        "from rasa.cli.scaffold import create_initial_project"
      ]
    },
    {
      "cell_type": "code",
      "execution_count": 5,
      "metadata": {
        "id": "KnIOywUKE6F5"
      },
      "outputs": [],
      "source": [
        "project = \"test-project\"\n",
        "create_initial_project(project)"
      ]
    },
    {
      "cell_type": "code",
      "execution_count": 6,
      "metadata": {
        "colab": {
          "base_uri": "https://localhost:8080/"
        },
        "id": "PjxVHRJCE-u5",
        "outputId": "7a8d2016-1f57-458e-ee41-3a9e638d4f6e"
      },
      "outputs": [
        {
          "output_type": "stream",
          "name": "stdout",
          "text": [
            "['actions', 'endpoints.yml', 'domain.yml', 'models', 'tests', 'credentials.yml', 'config.yml', 'data']\n"
          ]
        }
      ],
      "source": [
        "# move into project directory and show files\n",
        "os.chdir(project)\n",
        "print(os.listdir(\".\"))"
      ]
    },
    {
      "cell_type": "code",
      "execution_count": 7,
      "metadata": {
        "colab": {
          "base_uri": "https://localhost:8080/"
        },
        "id": "5N_1uA1KPkBt",
        "outputId": "8c81f463-b31b-40b2-828e-7288eb0343fb"
      },
      "outputs": [
        {
          "output_type": "stream",
          "name": "stdout",
          "text": [
            "config.yml data/ domain.yml models/\n"
          ]
        }
      ],
      "source": [
        "config = \"config.yml\"\n",
        "training_files = \"data/\"\n",
        "domain = \"domain.yml\"\n",
        "output = \"models/\"\n",
        "print(config, training_files, domain, output)"
      ]
    },
    {
      "cell_type": "markdown",
      "metadata": {
        "id": "4NeZbYh0Jc3o"
      },
      "source": [
        "### Sometime it may not run on first go. So, try to execute below line 3 time and it work fine. It is bug in rasa."
      ]
    },
    {
      "cell_type": "code",
      "execution_count": 8,
      "metadata": {
        "colab": {
          "base_uri": "https://localhost:8080/"
        },
        "id": "PrdOIlziPxEo",
        "outputId": "8846a2fd-8ba9-4138-a733-b559688c3317"
      },
      "outputs": [
        {
          "output_type": "stream",
          "name": "stdout",
          "text": [
            "\u001b[94mThe configuration for policies and pipeline was chosen automatically. It was written into the config file at 'config.yml'.\u001b[0m\n",
            "\u001b[94mTraining NLU model...\u001b[0m\n"
          ]
        },
        {
          "output_type": "stream",
          "name": "stderr",
          "text": [
            "WARNING:tensorflow:From /usr/local/lib/python3.8/dist-packages/rasa/utils/tensorflow/layers.py:635: calling while_loop_v2 (from tensorflow.python.ops.control_flow_ops) with back_prop=False is deprecated and will be removed in a future version.\n",
            "Instructions for updating:\n",
            "back_prop=False is deprecated. Consider using tf.stop_gradient instead.\n",
            "Instead of:\n",
            "results = tf.while_loop(c, b, vars, back_prop=False)\n",
            "Use:\n",
            "results = tf.nest.map_structure(tf.stop_gradient, tf.while_loop(c, b, vars))\n",
            "Epochs: 100%|██████████| 100/100 [00:26<00:00,  3.76it/s, t_loss=1.289, i_acc=0.971]\n"
          ]
        },
        {
          "output_type": "stream",
          "name": "stdout",
          "text": [
            "\u001b[94mNLU model training completed.\u001b[0m\n",
            "\u001b[94mTraining Core model...\u001b[0m\n"
          ]
        },
        {
          "output_type": "stream",
          "name": "stderr",
          "text": [
            "Processed story blocks: 100%|██████████| 3/3 [00:00<00:00, 274.54it/s, # trackers=1]\n",
            "Processed story blocks: 100%|██████████| 3/3 [00:00<00:00, 309.34it/s, # trackers=3]\n",
            "Processed story blocks: 100%|██████████| 3/3 [00:00<00:00, 105.44it/s, # trackers=12]\n",
            "Processed story blocks: 100%|██████████| 3/3 [00:00<00:00, 63.46it/s, # trackers=39]\n",
            "Processed rules: 100%|██████████| 2/2 [00:00<00:00, 322.96it/s, # trackers=1]\n",
            "Processed trackers: 100%|██████████| 3/3 [00:00<00:00, 89.99it/s, # actions=12]\n",
            "Processed actions: 12it [00:00, 690.06it/s, # examples=12]\n",
            "Processed trackers: 100%|██████████| 120/120 [00:06<00:00, 19.00it/s, # actions=30]\n",
            "Epochs: 100%|██████████| 100/100 [00:08<00:00, 11.56it/s, t_loss=3.492, loss=3.337, acc=0.900]\n",
            "Processed trackers: 100%|██████████| 2/2 [00:00<00:00, 137.02it/s, # actions=5]\n",
            "Processed actions: 5it [00:00, 860.23it/s, # examples=4]\n",
            "Processed trackers: 100%|██████████| 3/3 [00:00<00:00, 55.15it/s, # actions=12]\n",
            "Processed trackers: 100%|██████████| 5/5 [00:00<00:00, 1077.89it/s]\n"
          ]
        },
        {
          "output_type": "stream",
          "name": "stdout",
          "text": [
            "\u001b[94mCore model training completed.\u001b[0m\n",
            "\u001b[92mYour Rasa model is trained and saved at '/content/test-project/models/20221206-054437.tar.gz'.\u001b[0m\n",
            "models/20221206-054437.tar.gz\n"
          ]
        }
      ],
      "source": [
        "model_path = rasa.train(domain, config, [training_files], output)\n",
        "print(model_path)"
      ]
    },
    {
      "cell_type": "code",
      "execution_count": 9,
      "metadata": {
        "colab": {
          "base_uri": "https://localhost:8080/"
        },
        "id": "--XV_jksm6mN",
        "outputId": "95a52e9e-258f-493b-b81f-526f1d857bb6"
      },
      "outputs": [
        {
          "name": "stdout",
          "output_type": "stream",
          "text": [
            "Your bot is ready to talk! Type your messages here or send '/stop'.\n",
            "hi\n",
            "\u001b[92mHey! How are you?\u001b[0m\n",
            "fine\n",
            "\u001b[92mGreat, carry on!\u001b[0m\n",
            "how are you\n",
            "\u001b[92mI am a bot, powered by Rasa.\u001b[0m\n",
            "i am sad\n",
            "sad\n",
            "I am sad\n",
            "happy\n",
            "I am happy\n",
            "/stop\n"
          ]
        }
      ],
      "source": [
        "from rasa.jupyter import chat\n",
        "\n",
        "endpoints = 'endpoints.yml'\n",
        "\n",
        "chat(model_path, endpoints)"
      ]
    },
    {
      "cell_type": "code",
      "execution_count": 10,
      "metadata": {
        "colab": {
          "base_uri": "https://localhost:8080/"
        },
        "id": "RUCSgxbCo1Cq",
        "outputId": "db42f36d-8372-4d79-873d-48c052a8d1a9"
      },
      "outputs": [
        {
          "name": "stdout",
          "output_type": "stream",
          "text": [
            "Your bot is ready to talk! Type your messages here or send '/stop'.\n",
            "hi\n",
            "\u001b[92mHey! How are you?\u001b[0m\n",
            "who are you\n",
            "\u001b[92mI am a bot, powered by Rasa.\u001b[0m\n",
            "quit\n",
            "/stop\n"
          ]
        }
      ],
      "source": [
        "chat(model_path, endpoints)"
      ]
    }
  ],
  "metadata": {
    "colab": {
      "name": "Rasa_bot",
      "provenance": []
    },
    "kernelspec": {
      "display_name": "Python 3",
      "name": "python3"
    }
  },
  "nbformat": 4,
  "nbformat_minor": 0
}